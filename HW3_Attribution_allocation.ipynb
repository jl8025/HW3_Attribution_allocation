{
 "cells": [
  {
   "cell_type": "code",
   "execution_count": 27,
   "id": "db8909e8",
   "metadata": {},
   "outputs": [],
   "source": [
    "import pandas as pd\n",
    "import numpy as np\n",
    "import warnings\n",
    "warnings.filterwarnings(\"ignore\")"
   ]
  },
  {
   "cell_type": "code",
   "execution_count": 2,
   "id": "ce4d4002",
   "metadata": {},
   "outputs": [],
   "source": [
    "pd.options.display.max_columns = 25"
   ]
  },
  {
   "cell_type": "code",
   "execution_count": 3,
   "id": "0c780ff6",
   "metadata": {},
   "outputs": [],
   "source": [
    "# ----- Import data -----\n",
    "df = pd.read_csv(r'attribution_allocation_student_data.csv',sep=',')"
   ]
  },
  {
   "cell_type": "code",
   "execution_count": 16,
   "id": "e3ae6ba6",
   "metadata": {},
   "outputs": [],
   "source": [
    "channel_spend = {'tier1':{'email': 1000.0, 'social': 1000.0000000000001, 'display': 1000.0, 'paid_search': 999.9999999999999, 'referral': 1000.0, 'organic_search': 0.0, 'direct': 0.0},\n",
    "     'tier2':{'email': 2000.0, 'social': 2000.0, 'display': 2000.0, 'paid_search': 2000.0, 'referral': 2000.0, 'organic_search': 0.0, 'direct': 0.0},\n",
    "    'tier3' :{'email': 3000.0, 'social': 3000.0, 'display': 3000.0, 'paid_search': 3000.0, 'referral': 3000.0, 'organic_search': 0.0, 'direct': 0.0}}\n"
   ]
  },
  {
   "cell_type": "code",
   "execution_count": 6,
   "id": "cf146967",
   "metadata": {},
   "outputs": [],
   "source": [
    "def find_last_touchpoint(t_row, touch_col_prepend_f, max_touches_f):\n",
    "    for t in range(max_touches_f, 0, -1):\n",
    "        t_val = t_row[touch_col_prepend_f + str(t)]\n",
    "        try:\n",
    "            if isinstance(t_val, str):\n",
    "                return t_val\n",
    "        except:\n",
    "            None\n",
    "    return None"
   ]
  },
  {
   "cell_type": "code",
   "execution_count": 7,
   "id": "3c05bc5e",
   "metadata": {},
   "outputs": [],
   "source": [
    "def find_first_touchpoint(t_row, touch_col_prepend_f, max_touches_f):\n",
    "    for t in range(1, max_touches_f + 1):\n",
    "        t_val = t_row[touch_col_prepend_f + str(t)]\n",
    "        try:\n",
    "            if isinstance(t_val, str):\n",
    "                return t_val\n",
    "        except:\n",
    "            None\n",
    "    return None"
   ]
  },
  {
   "cell_type": "code",
   "execution_count": 8,
   "id": "dcc6afde",
   "metadata": {},
   "outputs": [],
   "source": [
    "def find_last_nondirect_touchpoint(t_row, touch_col_prepend_f, max_touches_f, direct_label_f):\n",
    "    for t in range(max_touches_f, 0, -1):\n",
    "        t_val = t_row[touch_col_prepend_f + str(t)]\n",
    "        try:\n",
    "            if isinstance(t_val, str) and t_val != direct_label_f:\n",
    "                return t_val\n",
    "        except:\n",
    "            None\n",
    "    return None"
   ]
  },
  {
   "cell_type": "code",
   "execution_count": 9,
   "id": "de92f78c",
   "metadata": {},
   "outputs": [],
   "source": [
    "def assign_credit(t_row, cred_col_names_f, touch_col_names_f, cred_col_post_pend_f, model_type_f, first_weight_f=0.5, last_weight_f=0.5):\n",
    "    # function assigns a credit to each relevant channel based on user specified model type, e.g. \"last_touch_point\", \"first_touch_point\", etc.\n",
    "    t_dict = dict(zip(cred_col_names_f, [0]*len(cred_col_names_f)))\n",
    "\n",
    "    if model_type_f == 'last_touch_point':\n",
    "        # last\n",
    "        t_dict.update({t_row['last_touch_point'] + cred_col_post_pend_f: 1})\n",
    "        return t_dict\n",
    "    elif model_type_f == 'first_touch_point':\n",
    "        # first\n",
    "        t_dict.update({t_row['first_touch_point'] + cred_col_post_pend_f: 1})\n",
    "        return t_dict\n",
    "    elif model_type_f == 'last_nondirect_touch_point':\n",
    "        # last_non_direct\n",
    "        try:\n",
    "            t_dict.update({t_row['last_nondirect_touch_point'] + cred_col_post_pend_f: 1})\n",
    "            return t_dict\n",
    "        except TypeError:\n",
    "            # case where there is no other channel\n",
    "            t_dict.update({'direct' + cred_col_post_pend_f: 1})\n",
    "            return t_dict\n",
    "    elif (model_type_f == 'linear') or (model_type_f == 'position'):\n",
    "        # linear and position based\n",
    "        t_channels = [x for x in t_row[touch_col_names_f] if isinstance(x, str)]\n",
    "        if model_type_f == 'linear':\n",
    "            # linear weights\n",
    "            t_weights = [1 / len(t_channels)] * len(t_channels)\n",
    "        elif model_type_f == 'position':\n",
    "            # position based weights (first and last specified, middle divided evenly)\n",
    "            if len(t_channels) > 2:\n",
    "                t_weights = [first_weight_f] + [(1 - (first_weight_f + last_weight_f)) / (len(t_channels) - 2)] * (len(t_channels) - 2) + [last_weight_f]\n",
    "            elif len(t_channels)==1:\n",
    "                t_weights = [1]\n",
    "            else:\n",
    "                t_weights = [first_weight_f] + [last_weight_f]\n",
    "\n",
    "        t_weights = [x / sum(t_weights) for x in t_weights]     # ensure weights sum to 1\n",
    "        for i in range(0, len(t_weights)):\n",
    "            t_key = t_channels[i] + '_credit'\n",
    "            t_value = t_dict[t_key] + t_weights[i]\n",
    "            t_dict.update({t_key: t_value})\n",
    "        return t_dict\n",
    "    else:\n",
    "        return t_dict"
   ]
  },
  {
   "cell_type": "code",
   "execution_count": 10,
   "id": "f683ce58",
   "metadata": {},
   "outputs": [],
   "source": [
    "def get_attribution_by_channel(df_f, credit_col_postpend_f):\n",
    "    allocated_conversions = df_f[cred_col_names].sum()\n",
    "    n_allocated_conversions = df_f[cred_col_names].sum().sum()\n",
    "    n_total_conversions = df_f.convert_TF.sum()\n",
    "    if n_allocated_conversions != n_total_conversions:\n",
    "        print('WARNING: allocation error. Sum of allocated conversions = %d. Sum of total conversions = %d' % (int(n_allocated_conversions), int(n_total_conversions)))\n",
    "\n",
    "    channel_allocation_f = pd.Series(dict(zip([x.split(credit_col_postpend_f)[0] for x in allocated_conversions.keys()], list(allocated_conversions.array))))\n",
    "    return channel_allocation_f"
   ]
  },
  {
   "cell_type": "code",
   "execution_count": 11,
   "id": "47675705",
   "metadata": {},
   "outputs": [],
   "source": [
    "def calc_avg_CAC(channel_allocation_f, channel_spend_f):\n",
    "    t_df = pd.DataFrame(channel_allocation_f)\n",
    "    t_df.columns = ['channel_allocation']\n",
    "    for t_ind, _ in t_df.iterrows():\n",
    "        t_df.loc[t_ind, 'channel_spend'] = channel_spend_f[t_ind]\n",
    "\n",
    "    t_df['CAC'] = t_df['channel_spend'] / t_df['channel_allocation']\n",
    "    t_df['CAC'].replace(np.inf, 0, inplace=True)\n",
    "    return t_df"
   ]
  },
  {
   "cell_type": "code",
   "execution_count": 12,
   "id": "4dcef79f",
   "metadata": {},
   "outputs": [],
   "source": [
    "def calc_marginal_CAC(n_conversions_low_tier, spend_low_tier, n_conversions_high_tier, spend_high_tier):\n",
    "    ##### fill in this code to create the three variables in output dictionary\n",
    "    marginal_conversions = n_conversions_high_tier - n_conversions_low_tier\n",
    "    marginal_spend = spend_high_tier - spend_low_tier\n",
    "    marginal_CAC = marginal_spend / marginal_conversions\n",
    "    return {'marginal_conversions': marginal_conversions, 'marginal_spend': marginal_spend,\n",
    "            'marginal_CAC': marginal_CAC}\n"
   ]
  },
  {
   "cell_type": "code",
   "execution_count": 13,
   "id": "75046d29",
   "metadata": {},
   "outputs": [],
   "source": [
    "\n",
    "# ----- Set parameters -----\n",
    "touch_col_prepend = 'touch'\n",
    "direct_label = 'direct'\n",
    "first_weight = 0.4\n",
    "last_weight = 0.4\n",
    "cred_col_post_pend = '_credit'\n",
    "select_model_types = ['last_touch_point', 'first_touch_point', 'last_nondirect_touch_point', 'linear', 'position']    # options are ['last_touch_point', 'first_touch_point', 'last_nondirect_touch_point', 'linear', 'position']\n",
    "write_to_file = True"
   ]
  },
  {
   "cell_type": "code",
   "execution_count": 14,
   "id": "87095949",
   "metadata": {},
   "outputs": [],
   "source": [
    "# ----- Calculations -----\n",
    "touch_col_names = [x for x in df.columns if x.find(touch_col_prepend) > -1]\n",
    "max_touches = max([int(x.split(touch_col_prepend)[1]) for x in touch_col_names])\n"
   ]
  },
  {
   "cell_type": "code",
   "execution_count": 17,
   "id": "c2688e8c",
   "metadata": {},
   "outputs": [],
   "source": [
    "# total spending for all three tier experiments\n",
    "channel_spend['total'] = dict()\n",
    "for t_name, t in channel_spend.items():\n",
    "    if t_name != 'total':\n",
    "        for c in t.keys():\n",
    "            try:\n",
    "                channel_spend['total'][c] = channel_spend['total'][c] + t[c]\n",
    "            except KeyError:\n",
    "                channel_spend['total'].update({c: 0})"
   ]
  },
  {
   "cell_type": "code",
   "execution_count": 25,
   "id": "d02d5f76",
   "metadata": {},
   "outputs": [
    {
     "data": {
      "text/plain": [
       "dict_values([{'email': 1000.0, 'social': 1000.0000000000001, 'display': 1000.0, 'paid_search': 999.9999999999999, 'referral': 1000.0, 'organic_search': 0.0, 'direct': 0.0}, {'email': 2000.0, 'social': 2000.0, 'display': 2000.0, 'paid_search': 2000.0, 'referral': 2000.0, 'organic_search': 0.0, 'direct': 0.0}, {'email': 3000.0, 'social': 3000.0, 'display': 3000.0, 'paid_search': 3000.0, 'referral': 3000.0, 'organic_search': 0.0, 'direct': 0.0}, {'email': 5000.0, 'social': 5000.0, 'display': 5000.0, 'paid_search': 5000.0, 'referral': 5000.0, 'organic_search': 0.0, 'direct': 0.0}])"
      ]
     },
     "execution_count": 25,
     "metadata": {},
     "output_type": "execute_result"
    }
   ],
   "source": [
    "channel_spend.values()"
   ]
  },
  {
   "cell_type": "code",
   "execution_count": 18,
   "id": "089cd609",
   "metadata": {},
   "outputs": [],
   "source": [
    "\n",
    "# ----- Format dataframe -----\n",
    "# --- create credit columns\n",
    "base_set = set()\n",
    "[base_set.update(set(df[x].dropna().unique())) for x in touch_col_names]\n",
    "cred_col_names = [x + '_credit' for x in base_set]\n",
    "df = pd.concat([df, pd.DataFrame(data=0, columns=cred_col_names, index=df.index)], axis=1, ignore_index=False)\n"
   ]
  },
  {
   "cell_type": "code",
   "execution_count": 19,
   "id": "a1e21895",
   "metadata": {},
   "outputs": [],
   "source": [
    "# --- identify key touch points\n",
    "df['last_touch_point'] = df.apply(find_last_touchpoint, args=(touch_col_prepend, max_touches), axis=1)\n",
    "df['first_touch_point'] = df.apply(find_first_touchpoint, args=(touch_col_prepend, max_touches), axis=1)\n",
    "df['last_nondirect_touch_point'] = df.apply(find_last_nondirect_touchpoint, args=(touch_col_prepend, max_touches, direct_label,), axis=1)\n"
   ]
  },
  {
   "cell_type": "code",
   "execution_count": 30,
   "id": "a2d1fe80",
   "metadata": {},
   "outputs": [
    {
     "name": "stdout",
     "output_type": "stream",
     "text": [
      "Processing model last_touch_point\n",
      "Running attribution model\n",
      "Calculating average and marginal CAC\n",
      "                channel_allocation  channel_spend       CAC\n",
      "referral                    6014.0         5000.0  0.831393\n",
      "email                       1491.0         5000.0  3.353454\n",
      "direct                         7.0            0.0  0.000000\n",
      "social                      2960.0         5000.0  1.689189\n",
      "display                     2292.0         5000.0  2.181501\n",
      "paid_search                 1004.0         5000.0  4.980080\n",
      "organic_search                11.0            0.0  0.000000\n",
      "Processing model first_touch_point\n",
      "Running attribution model\n",
      "Calculating average and marginal CAC\n",
      "                channel_allocation  channel_spend       CAC\n",
      "referral                    7495.0         5000.0  0.667111\n",
      "email                       1284.0         5000.0  3.894081\n",
      "direct                         6.0            0.0  0.000000\n",
      "social                      2280.0         5000.0  2.192982\n",
      "display                     2031.0         5000.0  2.461841\n",
      "paid_search                  668.0         5000.0  7.485030\n",
      "organic_search                15.0            0.0  0.000000\n",
      "Processing model last_nondirect_touch_point\n",
      "Running attribution model\n",
      "Calculating average and marginal CAC\n",
      "                channel_allocation  channel_spend       CAC\n",
      "referral                    6017.0         5000.0  0.830979\n",
      "email                       1492.0         5000.0  3.351206\n",
      "direct                         1.0            0.0  0.000000\n",
      "social                      2961.0         5000.0  1.688619\n",
      "display                     2293.0         5000.0  2.180549\n",
      "paid_search                 1004.0         5000.0  4.980080\n",
      "organic_search                11.0            0.0  0.000000\n",
      "Processing model linear\n",
      "Running attribution model\n",
      "Calculating average and marginal CAC\n",
      "                channel_allocation  channel_spend       CAC\n",
      "referral               7463.833333         5000.0  0.669897\n",
      "email                  1275.100000         5000.0  3.921261\n",
      "direct                    7.400000            0.0  0.000000\n",
      "social                 2302.183333         5000.0  2.171851\n",
      "display                2009.466667         5000.0  2.488222\n",
      "paid_search             704.866667         5000.0  7.093540\n",
      "organic_search           16.150000            0.0  0.000000\n",
      "Processing model position\n",
      "Running attribution model\n",
      "Calculating average and marginal CAC\n",
      "WARNING: allocation error. Sum of allocated conversions = 13778. Sum of total conversions = 13779\n",
      "                channel_allocation  channel_spend       CAC\n",
      "referral               7091.133333         5000.0  0.705106\n",
      "email                  1332.666667         5000.0  3.751876\n",
      "direct                    6.933333            0.0  0.000000\n",
      "social                 2473.800000         5000.0  2.021182\n",
      "display                2087.133333         5000.0  2.395630\n",
      "paid_search             772.900000         5000.0  6.469142\n",
      "organic_search           14.433333            0.0  0.000000\n"
     ]
    }
   ],
   "source": [
    "# ----- RUN MODELS -----\n",
    "CAC_dfs = dict()\n",
    "for model_type in select_model_types:\n",
    "    print('Processing model %s' % model_type)\n",
    "\n",
    "    # ----- Run attribution model -----\n",
    "    print('Running attribution model')\n",
    "    df_convert = df.loc[df.convert_TF]  # only run calculation for conversion rows\n",
    "    for t_ind, t_row in df_convert.iterrows():\n",
    "        t_credit_dict = assign_credit(t_row, cred_col_names, touch_col_names, cred_col_post_pend, model_type, first_weight, last_weight)\n",
    "        df.loc[t_ind, list(t_credit_dict.keys())] = list(t_credit_dict.values())  # add credit to original dataframe\n",
    "    del df_convert, t_ind, t_row\n",
    "\n",
    "    # ----- Calculate CAC -----\n",
    "    print('Calculating average and marginal CAC')\n",
    "    # --- Average CAC ---\n",
    "    channel_allocation = get_attribution_by_channel(df, credit_col_postpend_f='_credit')\n",
    "    df_CAC = calc_avg_CAC(channel_allocation_f=channel_allocation, channel_spend_f=channel_spend['total'])\n",
    "    print(df_CAC)\n",
    "\n",
    "    # --- Marginal CAC ---\n",
    "    credit_cols = [x for x in df.columns if x.find('credit') > -1]\n",
    "    df_CAC = pd.DataFrame(index=[x.split('_credit')[0] for x in credit_cols])\n",
    "    base_col_names = ['marginal_conversions', 'marginal_spend', 'marginal_CAC']\n",
    "\n",
    "    df_tier_sum = df[['tier']+credit_cols].groupby(['tier']).sum()\n",
    "    df_tier_sum.columns = [x.split('_credit')[0] for x in df_tier_sum.columns]\n",
    "    for t_tier in df_tier_sum.index:\n",
    "        for t_channel in df_CAC.index:\n",
    "            if t_tier > 1:\n",
    "                n_conversions_low_tier = df_tier_sum.loc[t_tier - 1, t_channel]\n",
    "                spend_low_tier = channel_spend['tier' + str(t_tier - 1)][t_channel]\n",
    "                n_conversions_high_tier = df_tier_sum.loc[t_tier, t_channel]\n",
    "                spend_high_tier = channel_spend['tier' + str(t_tier)][t_channel]\n",
    "            else:\n",
    "                n_conversions_low_tier = 0\n",
    "                spend_low_tier = 0\n",
    "                n_conversions_high_tier = df_tier_sum.loc[t_tier, t_channel]\n",
    "                spend_high_tier = channel_spend['tier' + str(t_tier)][t_channel]\n",
    "\n",
    "            t_df_CAC_colnames = [x + '_t' + str(t_tier) for x in base_col_names]\n",
    "            t_marginal_dict = calc_marginal_CAC(n_conversions_low_tier, spend_low_tier, n_conversions_high_tier, spend_high_tier)\n",
    "            df_CAC.loc[t_channel, t_df_CAC_colnames] = [t_marginal_dict[x] for x in base_col_names]\n",
    "\n",
    "    CAC_dfs.update({model_type: df_CAC})"
   ]
  },
  {
   "cell_type": "code",
   "execution_count": 21,
   "id": "d05c7142",
   "metadata": {},
   "outputs": [
    {
     "name": "stdout",
     "output_type": "stream",
     "text": [
      "\n",
      "last_touch_point attribution model implied CAC:\n",
      "                marginal_CAC_t1  marginal_CAC_t2  marginal_CAC_t3\n",
      "referral               0.825764         1.116071         1.697793\n",
      "email                  3.558719         3.649635        10.000000\n",
      "direct                 0.000000              NaN         0.000000\n",
      "social                 1.600000         2.298851         4.651163\n",
      "display                1.893939         3.448276         7.812500\n",
      "paid_search            5.681818         5.847953         7.462687\n",
      "organic_search         0.000000         0.000000         0.000000\n",
      "\n",
      "first_touch_point attribution model implied CAC:\n",
      "                marginal_CAC_t1  marginal_CAC_t2  marginal_CAC_t3\n",
      "referral               0.658328         0.833333         1.858736\n",
      "email                  3.787879         7.246377         4.629630\n",
      "direct                 0.000000         0.000000        -0.000000\n",
      "social                 2.105263         2.873563         6.289308\n",
      "display                2.298851         3.436426         6.944444\n",
      "paid_search            7.751938        12.195122         8.547009\n",
      "organic_search         0.000000         0.000000              NaN\n",
      "\n",
      "last_nondirect_touch_point attribution model implied CAC:\n",
      "                marginal_CAC_t1  marginal_CAC_t2  marginal_CAC_t3\n",
      "referral               0.825083         1.117318         1.692047\n",
      "email                  3.558719         3.649635         9.900990\n",
      "direct                      NaN              NaN         0.000000\n",
      "social                 1.600000         2.293578         4.672897\n",
      "display                1.893939         3.448276         7.751938\n",
      "paid_search            5.681818         5.847953         7.462687\n",
      "organic_search         0.000000         0.000000         0.000000\n",
      "\n",
      "linear attribution model implied CAC:\n",
      "                marginal_CAC_t1  marginal_CAC_t2  marginal_CAC_t3\n",
      "referral               0.659152         0.877514         1.578864\n",
      "email                  3.981949         5.225115         7.197697\n",
      "direct                 0.000000         0.000000         0.000000\n",
      "social                 2.063629         2.960478         5.784805\n",
      "display                2.276521         3.511030         8.194482\n",
      "paid_search            7.809449         9.110234         9.883051\n",
      "organic_search         0.000000         0.000000         0.000000\n",
      "\n",
      "position attribution model implied CAC:\n",
      "                marginal_CAC_t1  marginal_CAC_t2  marginal_CAC_t3\n",
      "referral               0.695894         0.915723         1.677665\n",
      "email                  3.813883         5.014207         6.793478\n",
      "direct                 0.000000         0.000000         0.000000\n",
      "social                 1.923693         2.726281         5.534034\n",
      "display                2.169825         3.488778         7.618080\n",
      "paid_search            7.095553         8.465011         8.784773\n",
      "organic_search         0.000000         0.000000         0.000000\n"
     ]
    }
   ],
   "source": [
    "# print implied CAC\n",
    "for m in CAC_dfs.keys():\n",
    "    print('\\n%s attribution model implied CAC:' % m)\n",
    "    print(CAC_dfs[m][['marginal_CAC_t1', 'marginal_CAC_t2', 'marginal_CAC_t3']])\n"
   ]
  },
  {
   "cell_type": "code",
   "execution_count": 29,
   "id": "d328281b",
   "metadata": {},
   "outputs": [],
   "source": [
    "# write marginal CAC output\n",
    "if write_to_file:\n",
    "    for key, value in CAC_dfs.items():\n",
    "        with open(key + '_model_marginal_implied_CAC.csv', 'w') as f:\n",
    "            value.to_csv(f)"
   ]
  },
  {
   "cell_type": "code",
   "execution_count": null,
   "id": "c473b0dc",
   "metadata": {},
   "outputs": [],
   "source": []
  }
 ],
 "metadata": {
  "kernelspec": {
   "display_name": "Python 3 (ipykernel)",
   "language": "python",
   "name": "python3"
  },
  "language_info": {
   "codemirror_mode": {
    "name": "ipython",
    "version": 3
   },
   "file_extension": ".py",
   "mimetype": "text/x-python",
   "name": "python",
   "nbconvert_exporter": "python",
   "pygments_lexer": "ipython3",
   "version": "3.9.12"
  }
 },
 "nbformat": 4,
 "nbformat_minor": 5
}
